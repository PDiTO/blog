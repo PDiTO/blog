{
 "cells": [
  {
   "cell_type": "markdown",
   "metadata": {},
   "source": [
    "# fastai2 --> fastai\n",
    "> A brief update.\n",
    "\n",
    "- toc: false \n",
    "- badges: true\n",
    "- comments: true\n",
    "- author: Paul D\n",
    "- image: images/2020-10-07-update-fastai2.png\n",
    "- categories: [deep learning, fastai]\n",
    "- hide: false"
   ]
  },
  {
   "cell_type": "markdown",
   "metadata": {},
   "source": [
    "### A Brief Update"
   ]
  },
  {
   "cell_type": "markdown",
   "metadata": {},
   "source": [
    "This blog has been noticably quiet the past few months and I just wanted to provide a brief update. I've been studying Japanese (since I spend half my time in Osaka) which is taking up most of my time. I do intend to get back to posting more regularly again soon.\n",
    "\n",
    "Since my last post 'fastai2' is out of beta and now represents the main fastai library. References to fastai2 such as `from fastai2.vision.widgets import *` now become `from fastai.vision.widgets import *`.\n",
    "\n",
    "If you're looking to run the code in prior notebooks, you'll need to manually update those lines. There may be other issues, if you spot anything, hit me up on [Twitter](https://www.twitter.com/PDiTO).\n",
    "\n",
    "Happy coding. "
   ]
  }
 ],
 "metadata": {
  "jupytext": {
   "split_at_heading": true
  },
  "kernelspec": {
   "display_name": "Python 3",
   "language": "python",
   "name": "python3"
  },
  "language_info": {
   "codemirror_mode": {
    "name": "ipython",
    "version": 3
   },
   "file_extension": ".py",
   "mimetype": "text/x-python",
   "name": "python",
   "nbconvert_exporter": "python",
   "pygments_lexer": "ipython3",
   "version": "3.7.9"
  }
 },
 "nbformat": 4,
 "nbformat_minor": 4
}
